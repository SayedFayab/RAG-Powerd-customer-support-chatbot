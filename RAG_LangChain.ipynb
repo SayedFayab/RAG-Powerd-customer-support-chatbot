{
 "cells": [
  {
   "cell_type": "code",
   "execution_count": 7,
   "id": "8460d50d-d0c2-444a-ba59-0e51480d1875",
   "metadata": {},
   "outputs": [],
   "source": [
    "# 0) Imports \n",
    "import os\n",
    "import pandas as pd \n",
    "from pathlib import Path\n",
    "\n",
    "# A LangChain container that holds text and metadata\n",
    "from langchain.schema import Document  \n",
    "\n",
    "# Splits long text into overlapping chunks\n",
    "from langchain.text_splitter import RecursiveCharacterTextSplitter\n",
    "\n",
    "# fast vector index for similarity serach\n",
    "from langchain_community.vectorstores import FAISS\n",
    "\n",
    "# calls OpenAI's embedding API to convert text in to vectors \n",
    "#wraps OpenAI's chat completion model\n",
    "from langchain_openai import OpenAIEmbeddings,ChatOpenAI\n",
    "\n",
    "# safely dienes prompts with placeholders\n",
    "from langchain.prompts import PromptTemplate\n",
    "\n",
    "#Prebuilt chain that wires together retriver + LLM\n",
    "from langchain.chains import RetrievalQA"
   ]
  },
  {
   "cell_type": "code",
   "execution_count": 8,
   "id": "0843de4f-3450-47fe-82af-832dbd414f5d",
   "metadata": {},
   "outputs": [],
   "source": [
    "with open(r\"C:\\Users\\fayab\\Desktop\\AI\\GENAI\\API_Keys\\OPENAI_API_KEY.txt\") as f:\n",
    "    OPENAI_API_KEY=f.read().strip()"
   ]
  },
  {
   "cell_type": "code",
   "execution_count": 10,
   "id": "dd04ae67-62f6-4d97-a2f8-44702b8d1b93",
   "metadata": {},
   "outputs": [],
   "source": [
    "os.environ[\"OPENAI_API_KEY\"] = OPENAI_API_KEY"
   ]
  },
  {
   "cell_type": "code",
   "execution_count": 11,
   "id": "e86b148c-2daf-49d2-b8d0-41e624c4bdcf",
   "metadata": {},
   "outputs": [],
   "source": [
    "df = pd.read_csv(r\"C:\\Users\\fayab\\Desktop\\AI\\GENAI\\Customer_Support_Training_Dataset.csv\")"
   ]
  },
  {
   "cell_type": "code",
   "execution_count": 12,
   "id": "86305d3a-b8c2-4dbc-a0ca-efea57cad21a",
   "metadata": {},
   "outputs": [],
   "source": [
    "docs = [\n",
    "    Document(page_content = f\"instruction: {row['instruction']} I response: {row['response']}\")\n",
    "    for _, row in df.iterrows()\n",
    "]"
   ]
  },
  {
   "cell_type": "code",
   "execution_count": 13,
   "id": "030911b7-ffb9-4014-9eea-7dcfc8cb4f36",
   "metadata": {},
   "outputs": [],
   "source": [
    "# 3. Chunking \n",
    "splitter = RecursiveCharacterTextSplitter(\n",
    "    chunk_size =500,\n",
    "    chunk_overlap=20)\n",
    "chunks = splitter.split_documents(docs)"
   ]
  },
  {
   "cell_type": "code",
   "execution_count": 14,
   "id": "b9536253-ace8-4214-988d-a8986c7690f1",
   "metadata": {},
   "outputs": [],
   "source": [
    "# 4. embeddings \n",
    "embeddings = OpenAIEmbeddings(model=\"text-embedding-3-small\")"
   ]
  },
  {
   "cell_type": "code",
   "execution_count": 16,
   "id": "746ac8ac-2160-430f-832d-513284a2019a",
   "metadata": {},
   "outputs": [],
   "source": [
    "#create a FAISS index \n",
    "vectordb = FAISS.from_documents(chunks,embeddings)\n",
    "retriever = vectordb.as_retriever(search_kwargs={\"k\":4})"
   ]
  },
  {
   "cell_type": "code",
   "execution_count": 17,
   "id": "0f7b9fd3-e6de-4e17-aafd-31fe6b2c5619",
   "metadata": {},
   "outputs": [],
   "source": [
    "# 5. Prompt and LLM setup\n",
    "prompt = PromptTemplate.from_template(\"\"\"You are a concise support assistant.\n",
    "    Answer only using the context. If unsure, say: \"I don't know based on provided documents.\"\n",
    "    Cite sources like [Doc 1].\n",
    "\n",
    "    Context:\n",
    "    {context}\n",
    "\n",
    "    Question:\n",
    "    {question}\n",
    "\n",
    "    Answer:\"\"\"\n",
    ")"
   ]
  },
  {
   "cell_type": "code",
   "execution_count": 25,
   "id": "634ebb6f-20db-4506-a666-20498e3872fa",
   "metadata": {},
   "outputs": [],
   "source": [
    "# use an OpenAI model\n",
    "llm = ChatOpenAI(model=\"gpt-4o-mini\", temperature=0.2)\n",
    "\n",
    "# crate the final RetrievelAQ chain with embedding + LLM\n",
    "qa = RetrievalQA.from_chain_type(\n",
    "    llm=llm,\n",
    "    chain_type=\"stuff\",\n",
    "    retriever=retriever,\n",
    "    chain_type_kwargs={\"prompt\": prompt},\n",
    "    return_source_documents=True\n",
    ")"
   ]
  },
  {
   "cell_type": "code",
   "execution_count": 30,
   "id": "6a439037-9210-4ded-9536-f378191fd627",
   "metadata": {},
   "outputs": [],
   "source": [
    "# 6. simple chat \n",
    "def chat():\n",
    "    print(\"\\n Chat with the RAGbot ( type 'exit' to stop)\")\n",
    "    while True:\n",
    "        q = input(\"\\nYou:\").strip()\n",
    "        if q.lower() in {\"exit\",\"quit\"}:\n",
    "            break\n",
    "        result = qa({\"query\": q})\n",
    "        print(\"\\nAssistant:\\n\", result[\"result\"])\n",
    "\n",
    "        print(\"\\nSource used:\")\n",
    "        for i, doc in enumerate(result.get(\"source_documents\", []), start=1):\n",
    "            print(f\"[Doc {i}]\")\n",
    "            print(doc.page_content[:200], \"...\\n\")"
   ]
  },
  {
   "cell_type": "code",
   "execution_count": null,
   "id": "4a5408ed-0c6d-470f-87a6-6dce495703f3",
   "metadata": {},
   "outputs": [],
   "source": []
  }
 ],
 "metadata": {
  "kernelspec": {
   "display_name": "Python 3 (ipykernel)",
   "language": "python",
   "name": "python3"
  },
  "language_info": {
   "codemirror_mode": {
    "name": "ipython",
    "version": 3
   },
   "file_extension": ".py",
   "mimetype": "text/x-python",
   "name": "python",
   "nbconvert_exporter": "python",
   "pygments_lexer": "ipython3",
   "version": "3.10.18"
  }
 },
 "nbformat": 4,
 "nbformat_minor": 5
}
